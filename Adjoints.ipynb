{
  "nbformat": 4,
  "nbformat_minor": 0,
  "metadata": {
    "colab": {
      "provenance": [],
      "authorship_tag": "ABX9TyNgUUc1Ao8pkb8KoGO4eDmL",
      "include_colab_link": true
    },
    "kernelspec": {
      "name": "python3",
      "display_name": "Python 3"
    },
    "language_info": {
      "name": "python"
    }
  },
  "cells": [
    {
      "cell_type": "markdown",
      "metadata": {
        "id": "view-in-github",
        "colab_type": "text"
      },
      "source": [
        "<a href=\"https://colab.research.google.com/github/rgclapp007/GEE-lab1/blob/main/Adjoints.ipynb\" target=\"_parent\"><img src=\"https://colab.research.google.com/assets/colab-badge.svg\" alt=\"Open In Colab\"/></a>"
      ]
    },
    {
      "cell_type": "markdown",
      "source": [
        "# Adjoints"
      ],
      "metadata": {
        "id": "_16NZLAIntXk"
      }
    },
    {
      "cell_type": "code",
      "source": [
        "import numpy as np\n",
        "def forwardMatMult(A:np.ndarray,model:np.ndarray,data:np.ndarray):\n",
        "    if A.shape[1]!=model.shape[0]:\n",
        "        raise Exception(\"Model and array axis 1 don't agree in size\")\n",
        "        \n",
        "    if A.shape[0]!=data.shape[0]:\n",
        "        raise Exception(\"Data and array axis 2 don't agree in size\")   \n",
        "        \n",
        "    for i2 in range(A.shape[0]):\n",
        "        for i1 in range(A.shape[1]):\n",
        "            data[i2]+=model[i1]*A[i2,i1]\n",
        "\n",
        "            \n",
        "def adjointMatMult(A:np.ndarray,model:np.ndarray,data:np.ndarray):\n",
        "    if A.shape[1]!=model.shape[0]:\n",
        "        raise Exception(\"Model and array axis 1 don't agree in size\")\n",
        "        \n",
        "    if A.shape[0]!=data.shape[0]:\n",
        "        raise Exception(\"Data and array axis 2 don't agree in size\")   \n",
        "        \n",
        "    for i2 in range(A.shape[0]):\n",
        "        for i1 in range(A.shape[1]):\n",
        "        \n",
        "            model[i1]+=data[i2]*A[i2,i1]"
      ],
      "metadata": {
        "id": "WUbaFYw1n42T"
      },
      "execution_count": 1,
      "outputs": []
    },
    {
      "cell_type": "code",
      "source": [
        "import numpy as np\n",
        "\n",
        "\n",
        "\n",
        "def forwardLinInterp(x_data:np.ndarray,o_model:float, d_model:float, \n",
        "                     model:np.ndarray,data:np.ndarray):\n",
        "    if x_data.shape[0]!=data.shape[0]:\n",
        "        raise Exception(\"Data and locations must agree in size\")\n",
        "\n",
        "    for id in  range(data.shape[0]):\n",
        "      fpos=(x_data[id]-o_model)/d_model\n",
        "      ipos=int(fpos)\n",
        "      fpos=fpos-ipos\n",
        "      data[id]+=model[ipos]*(1.-fpos) + model[ipos+1]*fpos\n",
        "    \n",
        "\n",
        "            \n",
        "def adjointLinInterp(x_data:np.ndarray,o_model:float, d_model:float, \n",
        "                     model:np.ndarray,data:np.ndarray):\n",
        "    if x_data.shape[0]!=data.shape[0]:\n",
        "        raise Exception(\"Data and locations must agree in size\")\n",
        "\n",
        "    for id in  range(data.shape[0]):\n",
        "      fpos=(x_data[id]-o_model)/d_model\n",
        "      ipos=int(fpos)\n",
        "      fpos=fpos-ipos\n",
        "      #data[id]+=model[ipos]*(1.-fpos) + model[ipos+1]*fpos\n",
        "      model[ipos]+=data[id]*(1.-fpos)\n",
        "      model[ipos+1]+=data[id]*fpos\n",
        "\n"
      ],
      "metadata": {
        "id": "nwJi8GM5oL6Z"
      },
      "execution_count": null,
      "outputs": []
    },
    {
      "cell_type": "code",
      "source": [],
      "metadata": {
        "id": "H1XudE68zvrq"
      },
      "execution_count": null,
      "outputs": []
    },
    {
      "cell_type": "markdown",
      "source": [
        "# Our first class!"
      ],
      "metadata": {
        "id": "oUKtUOM1zwaw"
      }
    },
    {
      "cell_type": "code",
      "source": [
        "class myOperator:\n",
        "  \"\"\" A generic operator class\"\"\"\n",
        "  def __init__(self,domain,range):\n",
        "    self._domain=domain\n",
        "    self._range=range\n",
        "  \n",
        "  def forward(self,add:bool,model:np.ndarray,data:np.ndarray):\n",
        "    raise Exception(\"Must override forward\")\n",
        "\n",
        "  def adjoint(self,add:bool,model:ndarray,data:ndarray):\n",
        "    raise Exception(\"Must override adjoint\")\n",
        "\n",
        "  def checkDomainRange(self,mod:np.ndarray,dat:np.ndarray):\n",
        "    if all mod.shape != self._domain.shape:\n",
        "      raise Exception(\"mod and domain not the same\")\n",
        "    if all dat.shape != self._range.shape:\n",
        "      raise Exception(\"dat and range not the same\")\n",
        "class Lin1D(myOperator):\n",
        "  \"\"\"Do linear interpolation \n",
        "  \"\"\"\n",
        "\n",
        "  def __init__(self,o_mod:float,d_mod:float,xpos:np.ndarray,model:np.ndarray,data:np.ndarray):\n",
        "    super().__init(model,data)\n",
        "    \n",
        "    if xpos.shape[0]!=data.shape[0]:\n",
        "      raise Exception(\"data and pos not the same size\")\n",
        "    \n",
        "    self._xpos=xpos\n",
        "    self._o=o_mod\n",
        "    self._d=d_mod\n",
        "\n",
        "    mx=self._o+self._d*(mod.shape[0]-1)\n",
        "    for x in xpos:\n",
        "      if x < self._o or x> mx:\n",
        "        raise Exception(\"Data points outside model\")\n",
        "\n",
        "  def forward(self,add:bool,model:np.ndarray,data:np.ndarray):\n",
        "      self.checkDomainRange(model,data)\n",
        "      if not add:\n",
        "        data.fill(0.)\n",
        "\n",
        "      for id in  range(data.shape[0]):\n",
        "        fpos=(x_data[id]-o_model)/d_model\n",
        "        ipos=int(fpos)\n",
        "        fpos=fpos-ipos\n",
        "        data[id]+=model[ipos]*(1.-fpos) + model[ipos+1]*fpos\n",
        "      \n",
        "\n",
        "            \n",
        "  def adjoint(self,add:bool,model:np.ndarray,data:np.ndarray):\n",
        "\n",
        "      self.checkDomainRange(model,data)\n",
        "      if not add:\n",
        "        model.fill(0.)\n",
        "\n",
        "      for id in  range(data.shape[0]):\n",
        "        fpos=(x_data[id]-o_model)/d_model\n",
        "        ipos=int(fpos)\n",
        "        fpos=fpos-ipos\n",
        "        #data[id]+=model[ipos]*(1.-fpos) + model[ipos+1]*fpos\n",
        "        model[ipos]+=data[id]*(1.-fpos)\n",
        "        model[ipos+1]+=data[id]*fpos\n"
      ],
      "metadata": {
        "id": "vCbdAoPnzyhg"
      },
      "execution_count": 1,
      "outputs": []
    },
    {
      "cell_type": "markdown",
      "source": [
        "# Vector class\n"
      ],
      "metadata": {
        "id": "X6Z1vlFZnrt9"
      }
    },
    {
      "cell_type": "code",
      "source": [
        "class myVector:\n",
        "\n",
        "  def __init__(self,*arg,**kw):\n",
        "    \"\"\"Initialize a vector class \n",
        "    \n",
        "        Two different ways\n",
        "\n",
        "        ar - Numpy array\n",
        "\n",
        "        shape - The size of the array\n",
        "\n",
        "        Optional:\n",
        "\n",
        "          spaceOnly - Whether or not to allocate space for the array (default False)\n",
        "    \n",
        "    \"\"\"\n",
        "\n",
        "    self._spaceOnly=False\n",
        "    if \"spaceOnly\" in kw:\n",
        "      if not isinstance(kw[\"spaceOnly\"],bool):\n",
        "        raise Exception(\"spaceOnly should be a bool\")\n",
        "      self._spaceOnly=kw[\"spaceOnly\"]\n",
        "    if isinstance(arg,np.ndarray):\n",
        "      self._ar=np.copy(arg[0])\n",
        "      self._shape=list(arg[0].shape)\n",
        "    elif isinstance(arg[0],list):\n",
        "      self._ar=np.ndarray(arg[0])\n",
        "      self._shape=arg[0]\n",
        "    else:\n",
        "      raise Exception(\"Arg must be a ndarray or list (size)\")\n",
        "  \n",
        "  def checkSame(self,vec:np.ndarray):\n",
        "    \"\"\"Check to make sure vectors match\"\"\"\n",
        "    if list(self._arr.shape)!=list(vec._arr.shape):\n",
        "      return False\n",
        "    return True\n",
        "\n",
        "  def validOp(self):\n",
        "    \"\"\"Check to make sure class is allocated\"\"\"\n",
        "    if self._spaceOnly:\n",
        "      raise Exception(\"Asked to use a vector when not allocated\")\n",
        "  \n",
        "  def zero(self):\n",
        "    \"Zero vector\"\n",
        "    self.validOp()\n",
        "    self._ar.fill(0)\n",
        "  \n",
        "  def scale(self,sc:float):\n",
        "    \"\"\"Scale a vector\"\"\"\n",
        "    self.validOp()\n",
        "    self._ar=self._ar*sc\n",
        "\n",
        "  def scaleAdd(self,vec:myVector,sc1:float=1,sc2:float=1.):\n",
        "    \"\"\" vec=self*sc1+vec*sc2\"\"\"\n",
        "    self.validOp()\n",
        "    vec.validOp()\n",
        "    self.checkSame(vec)\n",
        "    self._ar=self._ar*sc1+vec._ar*sc2\n",
        "\n",
        "  def clone(self):\n",
        "    \"\"\"Make a copy of the vector\"\"\"\n",
        "    if not self._spaceOnly: myVector(self._ar)\n",
        "    return myVector(self._shape)\n",
        "  \n",
        "  def cloneSpace(self):\n",
        "    \"\"\"Make a copy of just the vector space\"\"\"\n",
        "    return myVector(self._shape,spaceOnly=True)\n",
        "\n",
        "  def rand(self):\n",
        "    \"\"\"Fill with a random number\"\"\"\n",
        "    self._arr=np.random.rand(self._shape)\n",
        "\n",
        "\n",
        "    "
      ],
      "metadata": {
        "colab": {
          "base_uri": "https://localhost:8080/",
          "height": 357
        },
        "id": "fJZ7Ir77qZmI",
        "outputId": "9281d58e-b368-426b-cf0c-5dfa8be7773d"
      },
      "execution_count": 4,
      "outputs": [
        {
          "output_type": "error",
          "ename": "NameError",
          "evalue": "ignored",
          "traceback": [
            "\u001b[0;31m---------------------------------------------------------------------------\u001b[0m",
            "\u001b[0;31mNameError\u001b[0m                                 Traceback (most recent call last)",
            "\u001b[0;32m<ipython-input-4-35afa852c04e>\u001b[0m in \u001b[0;36m<module>\u001b[0;34m\u001b[0m\n\u001b[0;32m----> 1\u001b[0;31m \u001b[0;32mclass\u001b[0m \u001b[0mmyVector\u001b[0m\u001b[0;34m:\u001b[0m\u001b[0;34m\u001b[0m\u001b[0;34m\u001b[0m\u001b[0m\n\u001b[0m\u001b[1;32m      2\u001b[0m \u001b[0;34m\u001b[0m\u001b[0m\n\u001b[1;32m      3\u001b[0m   \u001b[0;32mdef\u001b[0m \u001b[0m__init__\u001b[0m\u001b[0;34m(\u001b[0m\u001b[0mself\u001b[0m\u001b[0;34m,\u001b[0m\u001b[0;34m*\u001b[0m\u001b[0marg\u001b[0m\u001b[0;34m,\u001b[0m\u001b[0;34m**\u001b[0m\u001b[0mkw\u001b[0m\u001b[0;34m)\u001b[0m\u001b[0;34m:\u001b[0m\u001b[0;34m\u001b[0m\u001b[0;34m\u001b[0m\u001b[0m\n\u001b[1;32m      4\u001b[0m     \"\"\"Initialize a vector class \n\u001b[1;32m      5\u001b[0m \u001b[0;34m\u001b[0m\u001b[0m\n",
            "\u001b[0;32m<ipython-input-4-35afa852c04e>\u001b[0m in \u001b[0;36mmyVector\u001b[0;34m()\u001b[0m\n\u001b[1;32m     30\u001b[0m       \u001b[0;32mraise\u001b[0m \u001b[0mException\u001b[0m\u001b[0;34m(\u001b[0m\u001b[0;34m\"Arg must be a ndarray or list (size)\"\u001b[0m\u001b[0;34m)\u001b[0m\u001b[0;34m\u001b[0m\u001b[0;34m\u001b[0m\u001b[0m\n\u001b[1;32m     31\u001b[0m \u001b[0;34m\u001b[0m\u001b[0m\n\u001b[0;32m---> 32\u001b[0;31m   \u001b[0;32mdef\u001b[0m \u001b[0mcheckSame\u001b[0m\u001b[0;34m(\u001b[0m\u001b[0mself\u001b[0m\u001b[0;34m,\u001b[0m\u001b[0mvec\u001b[0m\u001b[0;34m:\u001b[0m\u001b[0mnp\u001b[0m\u001b[0;34m.\u001b[0m\u001b[0mndarray\u001b[0m\u001b[0;34m)\u001b[0m\u001b[0;34m:\u001b[0m\u001b[0;34m\u001b[0m\u001b[0;34m\u001b[0m\u001b[0m\n\u001b[0m\u001b[1;32m     33\u001b[0m     \u001b[0;34m\"\"\"Check to make sure vectors match\"\"\"\u001b[0m\u001b[0;34m\u001b[0m\u001b[0;34m\u001b[0m\u001b[0m\n\u001b[1;32m     34\u001b[0m     \u001b[0;32mif\u001b[0m \u001b[0mlist\u001b[0m\u001b[0;34m(\u001b[0m\u001b[0mself\u001b[0m\u001b[0;34m.\u001b[0m\u001b[0m_arr\u001b[0m\u001b[0;34m.\u001b[0m\u001b[0mshape\u001b[0m\u001b[0;34m)\u001b[0m\u001b[0;34m!=\u001b[0m\u001b[0mlist\u001b[0m\u001b[0;34m(\u001b[0m\u001b[0mvec\u001b[0m\u001b[0;34m.\u001b[0m\u001b[0m_arr\u001b[0m\u001b[0;34m.\u001b[0m\u001b[0mshape\u001b[0m\u001b[0;34m)\u001b[0m\u001b[0;34m:\u001b[0m\u001b[0;34m\u001b[0m\u001b[0;34m\u001b[0m\u001b[0m\n",
            "\u001b[0;31mNameError\u001b[0m: name 'np' is not defined"
          ]
        }
      ]
    },
    {
      "cell_type": "code",
      "source": [],
      "metadata": {
        "id": "s4BmafrksV1o"
      },
      "execution_count": null,
      "outputs": []
    }
  ]
}